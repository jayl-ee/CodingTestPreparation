{
 "cells": [
  {
   "cell_type": "markdown",
   "metadata": {},
   "source": [
    "# 개인정보 수집 유효기간 Lv1"
   ]
  },
  {
   "cell_type": "code",
   "execution_count": 58,
   "metadata": {},
   "outputs": [],
   "source": [
    "# today = '2022.05.19'\n",
    "# today = \"2020.01.01\"\n",
    "today = '2022.02.28'\n",
    "# terms = [\"A 6\", \"B 12\", \"C 3\"]\n",
    "# terms = [\"Z 12\", \"D 3\"]\n",
    "terms = [\"A 23\"]\n",
    "# privacies = [\"2021.05.02 A\", \"2021.07.01 B\", \"2022.02.19 C\", \"2022.02.20 C\"]\n",
    "# privacies = [\"2019.01.01 D\", \"2019.11.15 Z\", \"2019.08.02 D\", \"2019.07.01 D\", \"2018.12.28 Z\"]\n",
    "privacies =  [\"2020.01.28 A\"] "
   ]
  },
  {
   "cell_type": "code",
   "execution_count": 59,
   "metadata": {},
   "outputs": [],
   "source": [
    "def date2day(date):\n",
    "    y, m ,d = map(int,date.split('.'))\n",
    "    tmp = (y*28*12) + (m*28) + d\n",
    "    return tmp\n",
    "\n",
    "def solution(today, terms, privacies):\n",
    "    term_dict = dict()\n",
    "    for term in terms:\n",
    "        t, m = term.split()\n",
    "        term_dict[t] = int(m) * 28\n",
    "\n",
    "    priv_lst = [ date.split() for date in privacies]\n",
    "    priv_lst = [ [date2day(i[0]), i[1]] for i in priv_lst]\n",
    "\n",
    "    terminate = []\n",
    "    today = date2day(today)\n",
    "\n",
    " \n",
    "    for idx,end_date in enumerate(priv_lst):\n",
    "        tmp = end_date[0] + term_dict[end_date[1]]\n",
    "        if today >= tmp:\n",
    "            terminate.append(idx+1)\n",
    "\n",
    "\n",
    "    return terminate, priv_lst\n",
    "\n",
    "\n",
    "\n",
    "\n",
    " "
   ]
  },
  {
   "cell_type": "markdown",
   "metadata": {},
   "source": [
    "### Wrong Method 1"
   ]
  },
  {
   "cell_type": "code",
   "execution_count": 47,
   "metadata": {},
   "outputs": [],
   "source": [
    "\n",
    "def info2dict(term, privacy):\n",
    "    term_dict = dict()\n",
    "    priv_dict = dict()\n",
    "    \n",
    "    for t in term:\n",
    "        term_dict[ t[0]] = int(t[2:])\n",
    "    for idx, p in enumerate(privacy):\n",
    "        if p[-1] in priv_dict.keys():\n",
    "            priv_dict[ p[-1]].append(f'{p[:-2]}{idx+1}')\n",
    "\n",
    "        else: priv_dict[ p[-1]] = [f'{p[:-2]}{idx+1}']\n",
    "\n",
    "    return term_dict, priv_dict\n",
    "    \n",
    "\n",
    "\n",
    "def solution(today, terms, privacies):\n",
    "\n",
    "    term_dict, privacy_dict = info2dict(terms,privacies)\n",
    "    \n",
    "    end_term = []\n",
    "    for term in term_dict:\n",
    "        for date in privacy_dict[term]:\n",
    "            new_date = [ (int(date[:4])*28*12)+(int(date[5:7])*28)+(term_dict[term]*28)+(int(date[-3:-1])), int(date[-1]) ]  #Year, Month, Day, Index            \n",
    "            end_term.append(new_date)\n",
    "\n",
    "    terminate = []\n",
    "    today_total_day = (int(today[:4])*28*12) + (int(today[5:7])*28) + int(today[-2:])\n",
    "    for d in  end_term:\n",
    "        if today_total_day >= d[0]:\n",
    "            terminate.append(d[1])        \n",
    "    terminate.sort()    \n",
    "    \n",
    "    return terminate, end_term, today_total_day\n",
    "\n"
   ]
  },
  {
   "cell_type": "markdown",
   "metadata": {},
   "source": [
    "### Wrong Method 2"
   ]
  },
  {
   "cell_type": "code",
   "execution_count": 35,
   "metadata": {},
   "outputs": [],
   "source": [
    "\n",
    "def info2dict(term, privacy):\n",
    "    term_dict = dict()\n",
    "    priv_dict = dict()\n",
    "    \n",
    "    for t in term:\n",
    "        term_dict[ t[0]] = int(t[2:])\n",
    "    for idx, p in enumerate(privacy):\n",
    "        if p[-1] in priv_dict.keys():\n",
    "            priv_dict[ p[-1]].append(f'{p[:-2]}{idx+1}')\n",
    "\n",
    "        else: priv_dict[ p[-1]] = [f'{p[:-2]}{idx+1}']\n",
    "\n",
    "    return term_dict, priv_dict\n",
    "    \n",
    "\n",
    "\n",
    "def solution(today, terms, privacies):\n",
    "\n",
    "    term_dict, privacy_dict = info2dict(terms,privacies)\n",
    "    \n",
    "    end_term = []\n",
    "    for term in term_dict:\n",
    "        for date in privacy_dict[term]:\n",
    "            new_date = [ int(date[:4]), int(date[5:7])+term_dict[term], int(date[-3:-1]), int(date[-1]) ]  #Year, Month, Day, Index\n",
    "            if new_date[1]>12:\n",
    "                if new_date[1] % 12 == 0:\n",
    "                    new_date[0] += new_date[1]//12  #year\n",
    "                    new_date[1] = 12 #month\n",
    "\n",
    "                else:\n",
    "                    new_date[0] += new_date[1]//12  #year\n",
    "                    new_date[1] = new_date[1] % 12 #month\n",
    "            \n",
    "            end_term.append(new_date)\n",
    "\n",
    "    terminate = []\n",
    "    for d in  end_term:\n",
    "        if int(today[:4])<=d[0]:\n",
    "            if int(today[5:7])*28 + int(today[-2:])>= d[1]*28 + d[2]:\n",
    "                terminate.append(d[-1])\n",
    "        else:terminate.append(d[-1])\n",
    "\n",
    "    terminate.sort()\n",
    "    \n",
    "    return terminate, end_term\n",
    "\n"
   ]
  }
 ],
 "metadata": {
  "interpreter": {
   "hash": "25a1899aa5635966f3002e9f08d9af4264f7438096a489b781668af7930dae59"
  },
  "kernelspec": {
   "display_name": "Python 3.9.7 ('base')",
   "language": "python",
   "name": "python3"
  },
  "language_info": {
   "codemirror_mode": {
    "name": "ipython",
    "version": 3
   },
   "file_extension": ".py",
   "mimetype": "text/x-python",
   "name": "python",
   "nbconvert_exporter": "python",
   "pygments_lexer": "ipython3",
   "version": "3.9.7"
  },
  "orig_nbformat": 4
 },
 "nbformat": 4,
 "nbformat_minor": 2
}
