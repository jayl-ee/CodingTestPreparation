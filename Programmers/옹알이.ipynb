{
 "cells": [
  {
   "cell_type": "markdown",
   "metadata": {},
   "source": [
    "# 실수한 점\n",
    "\n",
    "* 있는 단어를 ''(공백)으로 대체하여 계산하다보니, \"wyeoo\"의 경우 \"ye\" 를 빼고 나면 \"woo\"가 됨으로 있는 단어가 된다. 하지만 이 문제는 중간에 있는 단어를 빼고 말이 되면 안된다.\\\n",
    "따라서 \" \"(스페이스) 를 하나 넣고 replace 하여 길이를 계산했다.\n",
    "\n",
    "* str.replace()는 존재하는 단어에 대해서 모두 바꿔준다. 한번만 바꾸고 싶으면 str.replace(\"바꿀 단어\", \"바꾸고 싶은 단어\", \"횟수\" ) 로 사용하면 된다.\n",
    "\n",
    "\n"
   ]
  },
  {
   "cell_type": "code",
   "execution_count": 64,
   "metadata": {},
   "outputs": [],
   "source": [
    "def check_pronounce(word):\n",
    "    possible = ['aya','ye','woo','ma']\n",
    "    use = 0\n",
    "    for i in possible:\n",
    "        if i in word:\n",
    "            word = word.replace(i,' ')\n",
    "    if len(word.replace(' ','')) == 0:\n",
    "        use = 1\n",
    "    return use\n",
    "            \n",
    "    \n",
    "\n",
    "def solution(babbling):\n",
    "    total_use = 0\n",
    "    for word in babbling:\n",
    "        total_use+=check_pronounce(word)\n",
    "    \n",
    "    # answer = len(set(total_use))\n",
    "    answer =total_use\n",
    "    \n",
    "    return answer"
   ]
  },
  {
   "cell_type": "code",
   "execution_count": 46,
   "metadata": {},
   "outputs": [],
   "source": [
    "# babbling = [\"aya\", \"yee\", \"u\", \"maa\", \"wyeoo\"]\n",
    "babbling = [\"ayaye\", \"uuuma\", \"ye\", \"yemawoo\", \"ayaa\"]"
   ]
  },
  {
   "cell_type": "code",
   "execution_count": 65,
   "metadata": {},
   "outputs": [
    {
     "data": {
      "text/plain": [
       "0"
      ]
     },
     "execution_count": 65,
     "metadata": {},
     "output_type": "execute_result"
    }
   ],
   "source": [
    "check_pronounce('uuuma')"
   ]
  },
  {
   "cell_type": "code",
   "execution_count": null,
   "metadata": {},
   "outputs": [],
   "source": []
  },
  {
   "cell_type": "code",
   "execution_count": 66,
   "metadata": {},
   "outputs": [
    {
     "data": {
      "text/plain": [
       "3"
      ]
     },
     "execution_count": 66,
     "metadata": {},
     "output_type": "execute_result"
    }
   ],
   "source": [
    "solution(babbling)"
   ]
  },
  {
   "cell_type": "code",
   "execution_count": null,
   "metadata": {},
   "outputs": [],
   "source": []
  }
 ],
 "metadata": {
  "interpreter": {
   "hash": "25a1899aa5635966f3002e9f08d9af4264f7438096a489b781668af7930dae59"
  },
  "kernelspec": {
   "display_name": "Python 3.9.7 ('base')",
   "language": "python",
   "name": "python3"
  },
  "language_info": {
   "codemirror_mode": {
    "name": "ipython",
    "version": 3
   },
   "file_extension": ".py",
   "mimetype": "text/x-python",
   "name": "python",
   "nbconvert_exporter": "python",
   "pygments_lexer": "ipython3",
   "version": "3.9.7"
  },
  "orig_nbformat": 4
 },
 "nbformat": 4,
 "nbformat_minor": 2
}
