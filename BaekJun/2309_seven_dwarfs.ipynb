{
 "cells": [
  {
   "attachments": {},
   "cell_type": "markdown",
   "metadata": {},
   "source": [
    "#  일곱 난쟁이"
   ]
  },
  {
   "attachments": {},
   "cell_type": "markdown",
   "metadata": {},
   "source": [
    "* 문제 : 왕비를 피해 일곱 난쟁이들과 함께 평화롭게 생활하고 있던 백설공주에게 위기가 찾아왔다. 일과를 마치고 돌아온 난쟁이가 일곱 명이 아닌 아홉 명이었던 것이다.\n",
    "\n",
    "아홉 명의 난쟁이는 모두 자신이 \"백설 공주와 일곱 난쟁이\"의 주인공이라고 주장했다. 뛰어난 수학적 직관력을 가지고 있던 백설공주는, 다행스럽게도 일곱 난쟁이의 키의 합이 100이 됨을 기억해 냈다.\n",
    "\n",
    "아홉 난쟁이의 키가 주어졌을 때, 백설공주를 도와 일곱 난쟁이를 찾는 프로그램을 작성하시오.\n",
    "\n",
    "* 입력 : 아홉 개의 줄에 걸쳐 난쟁이들의 키가 주어진다. 주어지는 키는 100을 넘지 않는 자연수이며, 아홉 난쟁이의 키는 모두 다르며, 가능한 정답이 여러 가지인 경우에는 아무거나 출력한다.\n",
    "\n",
    "* 출력: 일곱 난쟁이의 키를 오름차순으로 출력한다. 일곱 난쟁이를 찾을 수 없는 경우는 없다."
   ]
  },
  {
   "attachments": {},
   "cell_type": "markdown",
   "metadata": {},
   "source": [
    "<b>예제입력</b> : \\\n",
    "20\\\n",
    "7\\\n",
    "23\\\n",
    "19\\\n",
    "10\\\n",
    "15\\\n",
    "25\\\n",
    "8\\\n",
    "13\n",
    "\n",
    "<b>예제출력</b> : \\\n",
    "7\\\n",
    "8\\\n",
    "10\\\n",
    "13\\\n",
    "19\\\n",
    "20\\\n",
    "23"
   ]
  },
  {
   "attachments": {},
   "cell_type": "markdown",
   "metadata": {},
   "source": [
    "### 방법 1 (조합))"
   ]
  },
  {
   "cell_type": "code",
   "execution_count": 7,
   "metadata": {},
   "outputs": [
    {
     "name": "stdout",
     "output_type": "stream",
     "text": [
      "20\n",
      "7\n",
      "23\n",
      "19\n",
      "10\n",
      "8\n",
      "13\n"
     ]
    }
   ],
   "source": [
    "# 조합의 수가 9C2( = 9C7)이르모, 충분히 완점탐색해도 될 것 같다.\n",
    "import itertools\n",
    "\n",
    "heights = []\n",
    "for _ in range(9):\n",
    "    heights.append( int(input()))\n",
    "\n",
    "for i in itertools.combinations(heights, 7):\n",
    "    if sum(i) == 100:\n",
    "        print(*i, sep='\\n')\n",
    " \n",
    "\n"
   ]
  },
  {
   "attachments": {},
   "cell_type": "markdown",
   "metadata": {},
   "source": [
    "### 방법 2"
   ]
  },
  {
   "cell_type": "code",
   "execution_count": 12,
   "metadata": {},
   "outputs": [
    {
     "name": "stdout",
     "output_type": "stream",
     "text": [
      "[7, 10, 13, 19, 20, 23, 25]\n",
      "[7, 8, 10, 13, 19, 20, 23]\n"
     ]
    }
   ],
   "source": [
    "heights = [20,7,23,19,10,15,25,8,13]\n",
    "# for _ in range(9):\n",
    "#     heights.append( int(input()))\n",
    "\n",
    "\n",
    "for i in range(9):\n",
    "    for j in range(1,9):\n",
    "        tmp = heights.copy()\n",
    "        if i!= j and (sum(tmp) - tmp[i] - tmp[j])==100:\n",
    "            tmp.remove(tmp[i])\n",
    "            tmp.remove(tmp[j])\n",
    "            tmp.sort()\n",
    "            # print(*tmp, sep='\\n')\n",
    "            print(tmp)\n",
    "            break\n",
    "\n"
   ]
  },
  {
   "attachments": {},
   "cell_type": "markdown",
   "metadata": {},
   "source": [
    "- break 했는데 왜 가능한 모든 경우 다 나오는거지.."
   ]
  },
  {
   "cell_type": "markdown",
   "metadata": {},
   "source": []
  }
 ],
 "metadata": {
  "kernelspec": {
   "display_name": "base",
   "language": "python",
   "name": "python3"
  },
  "language_info": {
   "codemirror_mode": {
    "name": "ipython",
    "version": 3
   },
   "file_extension": ".py",
   "mimetype": "text/x-python",
   "name": "python",
   "nbconvert_exporter": "python",
   "pygments_lexer": "ipython3",
   "version": "3.9.13"
  },
  "orig_nbformat": 4,
  "vscode": {
   "interpreter": {
    "hash": "40d3a090f54c6569ab1632332b64b2c03c39dcf918b08424e98f38b5ae0af88f"
   }
  }
 },
 "nbformat": 4,
 "nbformat_minor": 2
}
